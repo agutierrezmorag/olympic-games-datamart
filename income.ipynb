{
 "cells": [
  {
   "cell_type": "code",
   "execution_count": 1,
   "metadata": {},
   "outputs": [
    {
     "data": {
      "text/html": [
       "<div>\n",
       "<style scoped>\n",
       "    .dataframe tbody tr th:only-of-type {\n",
       "        vertical-align: middle;\n",
       "    }\n",
       "\n",
       "    .dataframe tbody tr th {\n",
       "        vertical-align: top;\n",
       "    }\n",
       "\n",
       "    .dataframe thead th {\n",
       "        text-align: right;\n",
       "    }\n",
       "</style>\n",
       "<table border=\"1\" class=\"dataframe\">\n",
       "  <thead>\n",
       "    <tr style=\"text-align: right;\">\n",
       "      <th></th>\n",
       "      <th>Entity</th>\n",
       "      <th>Code</th>\n",
       "      <th>Year</th>\n",
       "      <th>GNI per capita, PPP (constant 2017 international $)</th>\n",
       "    </tr>\n",
       "  </thead>\n",
       "  <tbody>\n",
       "    <tr>\n",
       "      <th>0</th>\n",
       "      <td>Afghanistan</td>\n",
       "      <td>AFG</td>\n",
       "      <td>2017</td>\n",
       "      <td>2085.487571</td>\n",
       "    </tr>\n",
       "    <tr>\n",
       "      <th>1</th>\n",
       "      <td>Africa Eastern and Southern</td>\n",
       "      <td>NaN</td>\n",
       "      <td>1990</td>\n",
       "      <td>2554.595257</td>\n",
       "    </tr>\n",
       "    <tr>\n",
       "      <th>2</th>\n",
       "      <td>Africa Eastern and Southern</td>\n",
       "      <td>NaN</td>\n",
       "      <td>1991</td>\n",
       "      <td>2495.966953</td>\n",
       "    </tr>\n",
       "    <tr>\n",
       "      <th>3</th>\n",
       "      <td>Africa Eastern and Southern</td>\n",
       "      <td>NaN</td>\n",
       "      <td>1992</td>\n",
       "      <td>2421.787983</td>\n",
       "    </tr>\n",
       "    <tr>\n",
       "      <th>4</th>\n",
       "      <td>Africa Eastern and Southern</td>\n",
       "      <td>NaN</td>\n",
       "      <td>1993</td>\n",
       "      <td>2397.012790</td>\n",
       "    </tr>\n",
       "  </tbody>\n",
       "</table>\n",
       "</div>"
      ],
      "text/plain": [
       "                        Entity Code  Year  \\\n",
       "0                  Afghanistan  AFG  2017   \n",
       "1  Africa Eastern and Southern  NaN  1990   \n",
       "2  Africa Eastern and Southern  NaN  1991   \n",
       "3  Africa Eastern and Southern  NaN  1992   \n",
       "4  Africa Eastern and Southern  NaN  1993   \n",
       "\n",
       "   GNI per capita, PPP (constant 2017 international $)  \n",
       "0                                        2085.487571    \n",
       "1                                        2554.595257    \n",
       "2                                        2495.966953    \n",
       "3                                        2421.787983    \n",
       "4                                        2397.012790    "
      ]
     },
     "execution_count": 1,
     "metadata": {},
     "output_type": "execute_result"
    }
   ],
   "source": [
    "import pandas as pd\n",
    "\n",
    "national_income_data = pd.read_csv(\"datasets/gross-national-income-per-capita.csv\")\n",
    "national_income_data.head()"
   ]
  },
  {
   "cell_type": "code",
   "execution_count": 3,
   "metadata": {},
   "outputs": [],
   "source": [
    "# save the data to a new csv file\n",
    "national_income_data.to_csv(\n",
    "    \"datasets/gross-national-income-per-capita-cleaned.csv\", index=False\n",
    ")"
   ]
  },
  {
   "cell_type": "code",
   "execution_count": 8,
   "metadata": {},
   "outputs": [
    {
     "name": "stdout",
     "output_type": "stream",
     "text": [
      "<class 'pandas.core.frame.DataFrame'>\n",
      "RangeIndex: 5108 entries, 0 to 5107\n",
      "Data columns (total 4 columns):\n",
      " #   Column                             Non-Null Count  Dtype  \n",
      "---  ------                             --------------  -----  \n",
      " 0   Entidad                            5108 non-null   object \n",
      " 1   Código                             3930 non-null   object \n",
      " 2   Año                                5108 non-null   int64  \n",
      " 3   Ingreso Nacional Bruto per cápita  5108 non-null   float64\n",
      "dtypes: float64(1), int64(1), object(2)\n",
      "memory usage: 159.8+ KB\n"
     ]
    }
   ],
   "source": [
    "national_income_data.info()"
   ]
  },
  {
   "cell_type": "code",
   "execution_count": 7,
   "metadata": {},
   "outputs": [
    {
     "data": {
      "text/html": [
       "<div>\n",
       "<style scoped>\n",
       "    .dataframe tbody tr th:only-of-type {\n",
       "        vertical-align: middle;\n",
       "    }\n",
       "\n",
       "    .dataframe tbody tr th {\n",
       "        vertical-align: top;\n",
       "    }\n",
       "\n",
       "    .dataframe thead th {\n",
       "        text-align: right;\n",
       "    }\n",
       "</style>\n",
       "<table border=\"1\" class=\"dataframe\">\n",
       "  <thead>\n",
       "    <tr style=\"text-align: right;\">\n",
       "      <th></th>\n",
       "      <th>Año</th>\n",
       "      <th>Ingreso Nacional Bruto per cápita</th>\n",
       "    </tr>\n",
       "  </thead>\n",
       "  <tbody>\n",
       "    <tr>\n",
       "      <th>Total de valores</th>\n",
       "      <td>5108.000000</td>\n",
       "      <td>5108.000000</td>\n",
       "    </tr>\n",
       "    <tr>\n",
       "      <th>Media</th>\n",
       "      <td>2006.272905</td>\n",
       "      <td>16214.757852</td>\n",
       "    </tr>\n",
       "    <tr>\n",
       "      <th>Desviación estándar</th>\n",
       "      <td>8.573295</td>\n",
       "      <td>16924.432425</td>\n",
       "    </tr>\n",
       "    <tr>\n",
       "      <th>Valor mínimo</th>\n",
       "      <td>1990.000000</td>\n",
       "      <td>416.032660</td>\n",
       "    </tr>\n",
       "    <tr>\n",
       "      <th>Q1</th>\n",
       "      <td>1999.000000</td>\n",
       "      <td>3594.229805</td>\n",
       "    </tr>\n",
       "    <tr>\n",
       "      <th>Q2</th>\n",
       "      <td>2007.000000</td>\n",
       "      <td>10029.822354</td>\n",
       "    </tr>\n",
       "    <tr>\n",
       "      <th>Q3</th>\n",
       "      <td>2014.000000</td>\n",
       "      <td>23289.224641</td>\n",
       "    </tr>\n",
       "    <tr>\n",
       "      <th>Q4</th>\n",
       "      <td>2020.000000</td>\n",
       "      <td>112322.248180</td>\n",
       "    </tr>\n",
       "    <tr>\n",
       "      <th>Asimetría</th>\n",
       "      <td>-0.194268</td>\n",
       "      <td>1.590910</td>\n",
       "    </tr>\n",
       "    <tr>\n",
       "      <th>Curtosis</th>\n",
       "      <td>-1.108965</td>\n",
       "      <td>2.484584</td>\n",
       "    </tr>\n",
       "    <tr>\n",
       "      <th>RIC</th>\n",
       "      <td>15.000000</td>\n",
       "      <td>19694.994836</td>\n",
       "    </tr>\n",
       "  </tbody>\n",
       "</table>\n",
       "</div>"
      ],
      "text/plain": [
       "                             Año  Ingreso Nacional Bruto per cápita\n",
       "Total de valores     5108.000000                        5108.000000\n",
       "Media                2006.272905                       16214.757852\n",
       "Desviación estándar     8.573295                       16924.432425\n",
       "Valor mínimo         1990.000000                         416.032660\n",
       "Q1                   1999.000000                        3594.229805\n",
       "Q2                   2007.000000                       10029.822354\n",
       "Q3                   2014.000000                       23289.224641\n",
       "Q4                   2020.000000                      112322.248180\n",
       "Asimetría              -0.194268                           1.590910\n",
       "Curtosis               -1.108965                           2.484584\n",
       "RIC                    15.000000                       19694.994836"
      ]
     },
     "execution_count": 7,
     "metadata": {},
     "output_type": "execute_result"
    }
   ],
   "source": [
    "from statistics_calc import descriptors, translate_descriptors\n",
    "\n",
    "# Generate descriptors\n",
    "desc = descriptors(national_income_data)\n",
    "\n",
    "# Translate the descriptors to Spanish\n",
    "desc = translate_descriptors(desc)\n",
    "\n",
    "# Export the DataFrame to a CSV file\n",
    "desc.to_csv(\"descriptors/income-quantitative.csv\", decimal=\",\")\n",
    "\n",
    "desc"
   ]
  },
  {
   "cell_type": "code",
   "execution_count": 6,
   "metadata": {},
   "outputs": [
    {
     "data": {
      "text/html": [
       "<div>\n",
       "<style scoped>\n",
       "    .dataframe tbody tr th:only-of-type {\n",
       "        vertical-align: middle;\n",
       "    }\n",
       "\n",
       "    .dataframe tbody tr th {\n",
       "        vertical-align: top;\n",
       "    }\n",
       "\n",
       "    .dataframe thead th {\n",
       "        text-align: right;\n",
       "    }\n",
       "</style>\n",
       "<table border=\"1\" class=\"dataframe\">\n",
       "  <thead>\n",
       "    <tr style=\"text-align: right;\">\n",
       "      <th></th>\n",
       "      <th>Columna</th>\n",
       "      <th>Moda</th>\n",
       "      <th>Moda (#)</th>\n",
       "      <th>Moda (%)</th>\n",
       "      <th>Total de valores</th>\n",
       "      <th>Valores unicos (#)</th>\n",
       "      <th>Valores unicos (%)</th>\n",
       "      <th>Valores nulos (%)</th>\n",
       "    </tr>\n",
       "  </thead>\n",
       "  <tbody>\n",
       "    <tr>\n",
       "      <th>1</th>\n",
       "      <td>Entidad</td>\n",
       "      <td>Africa Eastern and Southern</td>\n",
       "      <td>31</td>\n",
       "      <td>0.606891</td>\n",
       "      <td>5108</td>\n",
       "      <td>235</td>\n",
       "      <td>4.600626</td>\n",
       "      <td>0.000000</td>\n",
       "    </tr>\n",
       "    <tr>\n",
       "      <th>2</th>\n",
       "      <td>Código</td>\n",
       "      <td>ARG</td>\n",
       "      <td>31</td>\n",
       "      <td>0.606891</td>\n",
       "      <td>3930</td>\n",
       "      <td>194</td>\n",
       "      <td>3.797964</td>\n",
       "      <td>23.061864</td>\n",
       "    </tr>\n",
       "  </tbody>\n",
       "</table>\n",
       "</div>"
      ],
      "text/plain": [
       "   Columna                         Moda  Moda (#)  Moda (%)  Total de valores  \\\n",
       "1  Entidad  Africa Eastern and Southern        31  0.606891              5108   \n",
       "2   Código                          ARG        31  0.606891              3930   \n",
       "\n",
       "   Valores unicos (#)  Valores unicos (%)  Valores nulos (%)  \n",
       "1                 235            4.600626           0.000000  \n",
       "2                 194            3.797964          23.061864  "
      ]
     },
     "execution_count": 6,
     "metadata": {},
     "output_type": "execute_result"
    }
   ],
   "source": [
    "from statistics_calc import qualitative_stats\n",
    "\n",
    "# Columnas cualitativas de interés\n",
    "cols_cualitativas = [\"Entidad\", \"Código\"]\n",
    "\n",
    "# Generate statistics\n",
    "estadisticas = qualitative_stats(national_income_data, cols_cualitativas)\n",
    "\n",
    "# Guardar datos en un archivo CSV\n",
    "estadisticas.to_csv(\"descriptors/income-qualitative.csv\", index=False, decimal=\",\")\n",
    "\n",
    "# Mostrar el DataFrame de estadísticas\n",
    "estadisticas"
   ]
  },
  {
   "cell_type": "code",
   "execution_count": 9,
   "metadata": {},
   "outputs": [
    {
     "data": {
      "text/plain": [
       "Code    1178\n",
       "dtype: int64"
      ]
     },
     "execution_count": 9,
     "metadata": {},
     "output_type": "execute_result"
    }
   ],
   "source": [
    "# count the number of missing values in each column\n",
    "missing = national_income_data.isnull().sum()\n",
    "missing = missing[missing > 0]\n",
    "missing.sort_values(inplace=True)\n",
    "missing"
   ]
  },
  {
   "cell_type": "code",
   "execution_count": 2,
   "metadata": {},
   "outputs": [
    {
     "data": {
      "text/html": [
       "<div>\n",
       "<style scoped>\n",
       "    .dataframe tbody tr th:only-of-type {\n",
       "        vertical-align: middle;\n",
       "    }\n",
       "\n",
       "    .dataframe tbody tr th {\n",
       "        vertical-align: top;\n",
       "    }\n",
       "\n",
       "    .dataframe thead th {\n",
       "        text-align: right;\n",
       "    }\n",
       "</style>\n",
       "<table border=\"1\" class=\"dataframe\">\n",
       "  <thead>\n",
       "    <tr style=\"text-align: right;\">\n",
       "      <th></th>\n",
       "      <th>Columna</th>\n",
       "      <th>Dominio</th>\n",
       "    </tr>\n",
       "  </thead>\n",
       "  <tbody>\n",
       "    <tr>\n",
       "      <th>0</th>\n",
       "      <td>Entity</td>\n",
       "      <td>235</td>\n",
       "    </tr>\n",
       "    <tr>\n",
       "      <th>1</th>\n",
       "      <td>Code</td>\n",
       "      <td>194</td>\n",
       "    </tr>\n",
       "    <tr>\n",
       "      <th>2</th>\n",
       "      <td>Year</td>\n",
       "      <td>31</td>\n",
       "    </tr>\n",
       "    <tr>\n",
       "      <th>3</th>\n",
       "      <td>GNI per capita, PPP (constant 2017 internation...</td>\n",
       "      <td>5056</td>\n",
       "    </tr>\n",
       "  </tbody>\n",
       "</table>\n",
       "</div>"
      ],
      "text/plain": [
       "                                             Columna  Dominio\n",
       "0                                             Entity      235\n",
       "1                                               Code      194\n",
       "2                                               Year       31\n",
       "3  GNI per capita, PPP (constant 2017 internation...     5056"
      ]
     },
     "execution_count": 2,
     "metadata": {},
     "output_type": "execute_result"
    }
   ],
   "source": [
    "# Count the number of unique values in each column\n",
    "unique_values = national_income_data.nunique()\n",
    "\n",
    "# Convert the Series to a DataFrame\n",
    "unique_values_df = unique_values.to_frame().reset_index()\n",
    "\n",
    "# Rename the columns\n",
    "unique_values_df.columns = [\"Columna\", \"Dominio\"]\n",
    "\n",
    "# Save the DataFrame to a CSV file\n",
    "unique_values_df.to_csv(\n",
    "    \"descriptors/income_unique_values.csv\", index=False, decimal=\".\"\n",
    ")\n",
    "unique_values_df"
   ]
  },
  {
   "cell_type": "code",
   "execution_count": 11,
   "metadata": {},
   "outputs": [
    {
     "data": {
      "text/plain": [
       "1178"
      ]
     },
     "execution_count": 11,
     "metadata": {},
     "output_type": "execute_result"
    }
   ],
   "source": [
    "# count the number of cells with missing values\n",
    "total_cells = national_income_data.size\n",
    "missing_cells = national_income_data.isnull().sum().sum()\n",
    "missing_cells"
   ]
  },
  {
   "cell_type": "code",
   "execution_count": 9,
   "metadata": {},
   "outputs": [
    {
     "data": {
      "text/plain": [
       "15720"
      ]
     },
     "execution_count": 9,
     "metadata": {},
     "output_type": "execute_result"
    }
   ],
   "source": [
    "# drop the rows with nan values in the code column\n",
    "national_income_data = national_income_data.dropna(subset=[\"Code\"])\n",
    "\n",
    "# count the number of cells\n",
    "total_cells = national_income_data.size\n",
    "total_cells"
   ]
  }
 ],
 "metadata": {
  "kernelspec": {
   "display_name": "base",
   "language": "python",
   "name": "python3"
  },
  "language_info": {
   "codemirror_mode": {
    "name": "ipython",
    "version": 3
   },
   "file_extension": ".py",
   "mimetype": "text/x-python",
   "name": "python",
   "nbconvert_exporter": "python",
   "pygments_lexer": "ipython3",
   "version": "3.12.3"
  }
 },
 "nbformat": 4,
 "nbformat_minor": 2
}
