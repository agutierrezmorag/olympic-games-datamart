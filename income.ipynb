{
 "cells": [
  {
   "cell_type": "code",
   "execution_count": 3,
   "metadata": {},
   "outputs": [
    {
     "data": {
      "text/html": [
       "<div>\n",
       "<style scoped>\n",
       "    .dataframe tbody tr th:only-of-type {\n",
       "        vertical-align: middle;\n",
       "    }\n",
       "\n",
       "    .dataframe tbody tr th {\n",
       "        vertical-align: top;\n",
       "    }\n",
       "\n",
       "    .dataframe thead th {\n",
       "        text-align: right;\n",
       "    }\n",
       "</style>\n",
       "<table border=\"1\" class=\"dataframe\">\n",
       "  <thead>\n",
       "    <tr style=\"text-align: right;\">\n",
       "      <th></th>\n",
       "      <th>Entity</th>\n",
       "      <th>Code</th>\n",
       "      <th>Year</th>\n",
       "      <th>GNI per capita, PPP (constant 2017 international $)</th>\n",
       "    </tr>\n",
       "  </thead>\n",
       "  <tbody>\n",
       "    <tr>\n",
       "      <th>0</th>\n",
       "      <td>Afghanistan</td>\n",
       "      <td>AFG</td>\n",
       "      <td>2017</td>\n",
       "      <td>2085.487571</td>\n",
       "    </tr>\n",
       "    <tr>\n",
       "      <th>1</th>\n",
       "      <td>Africa Eastern and Southern</td>\n",
       "      <td>NaN</td>\n",
       "      <td>1990</td>\n",
       "      <td>2554.595257</td>\n",
       "    </tr>\n",
       "    <tr>\n",
       "      <th>2</th>\n",
       "      <td>Africa Eastern and Southern</td>\n",
       "      <td>NaN</td>\n",
       "      <td>1991</td>\n",
       "      <td>2495.966953</td>\n",
       "    </tr>\n",
       "    <tr>\n",
       "      <th>3</th>\n",
       "      <td>Africa Eastern and Southern</td>\n",
       "      <td>NaN</td>\n",
       "      <td>1992</td>\n",
       "      <td>2421.787983</td>\n",
       "    </tr>\n",
       "    <tr>\n",
       "      <th>4</th>\n",
       "      <td>Africa Eastern and Southern</td>\n",
       "      <td>NaN</td>\n",
       "      <td>1993</td>\n",
       "      <td>2397.012790</td>\n",
       "    </tr>\n",
       "  </tbody>\n",
       "</table>\n",
       "</div>"
      ],
      "text/plain": [
       "                        Entity Code  Year  \\\n",
       "0                  Afghanistan  AFG  2017   \n",
       "1  Africa Eastern and Southern  NaN  1990   \n",
       "2  Africa Eastern and Southern  NaN  1991   \n",
       "3  Africa Eastern and Southern  NaN  1992   \n",
       "4  Africa Eastern and Southern  NaN  1993   \n",
       "\n",
       "   GNI per capita, PPP (constant 2017 international $)  \n",
       "0                                        2085.487571    \n",
       "1                                        2554.595257    \n",
       "2                                        2495.966953    \n",
       "3                                        2421.787983    \n",
       "4                                        2397.012790    "
      ]
     },
     "execution_count": 3,
     "metadata": {},
     "output_type": "execute_result"
    }
   ],
   "source": [
    "import pandas as pd\n",
    "\n",
    "national_income_data = pd.read_csv(\"datasets/gross-national-income-per-capita.csv\")\n",
    "national_income_data.head()"
   ]
  },
  {
   "cell_type": "code",
   "execution_count": 5,
   "metadata": {},
   "outputs": [
    {
     "data": {
      "text/html": [
       "<div>\n",
       "<style scoped>\n",
       "    .dataframe tbody tr th:only-of-type {\n",
       "        vertical-align: middle;\n",
       "    }\n",
       "\n",
       "    .dataframe tbody tr th {\n",
       "        vertical-align: top;\n",
       "    }\n",
       "\n",
       "    .dataframe thead th {\n",
       "        text-align: right;\n",
       "    }\n",
       "</style>\n",
       "<table border=\"1\" class=\"dataframe\">\n",
       "  <thead>\n",
       "    <tr style=\"text-align: right;\">\n",
       "      <th></th>\n",
       "      <th>Entidad</th>\n",
       "      <th>Código</th>\n",
       "      <th>Año</th>\n",
       "      <th>Ingreso Nacional Bruto per cápita</th>\n",
       "    </tr>\n",
       "  </thead>\n",
       "  <tbody>\n",
       "    <tr>\n",
       "      <th>0</th>\n",
       "      <td>Afghanistan</td>\n",
       "      <td>AFG</td>\n",
       "      <td>2017</td>\n",
       "      <td>2085.487571</td>\n",
       "    </tr>\n",
       "    <tr>\n",
       "      <th>1</th>\n",
       "      <td>Africa Eastern and Southern</td>\n",
       "      <td>NaN</td>\n",
       "      <td>1990</td>\n",
       "      <td>2554.595257</td>\n",
       "    </tr>\n",
       "    <tr>\n",
       "      <th>2</th>\n",
       "      <td>Africa Eastern and Southern</td>\n",
       "      <td>NaN</td>\n",
       "      <td>1991</td>\n",
       "      <td>2495.966953</td>\n",
       "    </tr>\n",
       "    <tr>\n",
       "      <th>3</th>\n",
       "      <td>Africa Eastern and Southern</td>\n",
       "      <td>NaN</td>\n",
       "      <td>1992</td>\n",
       "      <td>2421.787983</td>\n",
       "    </tr>\n",
       "    <tr>\n",
       "      <th>4</th>\n",
       "      <td>Africa Eastern and Southern</td>\n",
       "      <td>NaN</td>\n",
       "      <td>1993</td>\n",
       "      <td>2397.012790</td>\n",
       "    </tr>\n",
       "  </tbody>\n",
       "</table>\n",
       "</div>"
      ],
      "text/plain": [
       "                       Entidad Código   Año  Ingreso Nacional Bruto per cápita\n",
       "0                  Afghanistan    AFG  2017                        2085.487571\n",
       "1  Africa Eastern and Southern    NaN  1990                        2554.595257\n",
       "2  Africa Eastern and Southern    NaN  1991                        2495.966953\n",
       "3  Africa Eastern and Southern    NaN  1992                        2421.787983\n",
       "4  Africa Eastern and Southern    NaN  1993                        2397.012790"
      ]
     },
     "execution_count": 5,
     "metadata": {},
     "output_type": "execute_result"
    }
   ],
   "source": [
    "# translate the column names to spanish\n",
    "national_income_data.columns = ['Entidad', \"Código\", \"Año\" ,\"Ingreso Nacional Bruto per cápita\"]\n",
    "national_income_data.head()"
   ]
  },
  {
   "cell_type": "code",
   "execution_count": 6,
   "metadata": {},
   "outputs": [],
   "source": [
    "# save the data to a new csv file\n",
    "national_income_data.to_csv(\n",
    "    \"datasets/gross-national-income-per-capita-spanish.csv\", index=False\n",
    ")"
   ]
  },
  {
   "cell_type": "code",
   "execution_count": 11,
   "metadata": {},
   "outputs": [
    {
     "data": {
      "text/plain": [
       "235"
      ]
     },
     "execution_count": 11,
     "metadata": {},
     "output_type": "execute_result"
    }
   ],
   "source": [
    "# count the number of unique values in the 'Código' column\n",
    "national_income_data[\"Entidad\"].nunique()"
   ]
  },
  {
   "cell_type": "code",
   "execution_count": 10,
   "metadata": {},
   "outputs": [
    {
     "data": {
      "text/plain": [
       "Año\n",
       "2017    235\n",
       "2016    195\n",
       "2015    195\n",
       "2014    195\n",
       "2013    194\n",
       "2012    193\n",
       "2018    192\n",
       "2011    192\n",
       "2010    190\n",
       "2009    185\n",
       "2008    183\n",
       "2019    181\n",
       "2007    180\n",
       "2006    177\n",
       "2005    170\n",
       "2004    166\n",
       "2003    162\n",
       "2002    162\n",
       "2001    161\n",
       "2000    158\n",
       "1998    149\n",
       "1999    148\n",
       "1997    148\n",
       "1996    145\n",
       "1995    144\n",
       "1994    125\n",
       "2020    122\n",
       "1993    118\n",
       "1992    116\n",
       "1991    115\n",
       "1990    112\n",
       "Name: count, dtype: int64"
      ]
     },
     "execution_count": 10,
     "metadata": {},
     "output_type": "execute_result"
    }
   ],
   "source": [
    "# get the year where there's entries for all countries\n",
    "national_income_data[\"Año\"].value_counts()"
   ]
  },
  {
   "cell_type": "code",
   "execution_count": 3,
   "metadata": {},
   "outputs": [
    {
     "name": "stdout",
     "output_type": "stream",
     "text": [
      "<class 'pandas.core.frame.DataFrame'>\n",
      "RangeIndex: 5108 entries, 0 to 5107\n",
      "Data columns (total 4 columns):\n",
      " #   Column                                               Non-Null Count  Dtype  \n",
      "---  ------                                               --------------  -----  \n",
      " 0   Entity                                               5108 non-null   object \n",
      " 1   Code                                                 3930 non-null   object \n",
      " 2   Year                                                 5108 non-null   int64  \n",
      " 3   GNI per capita, PPP (constant 2017 international $)  5108 non-null   float64\n",
      "dtypes: float64(1), int64(1), object(2)\n",
      "memory usage: 159.8+ KB\n"
     ]
    }
   ],
   "source": [
    "national_income_data.info()"
   ]
  },
  {
   "cell_type": "code",
   "execution_count": 4,
   "metadata": {},
   "outputs": [
    {
     "data": {
      "text/html": [
       "<div>\n",
       "<style scoped>\n",
       "    .dataframe tbody tr th:only-of-type {\n",
       "        vertical-align: middle;\n",
       "    }\n",
       "\n",
       "    .dataframe tbody tr th {\n",
       "        vertical-align: top;\n",
       "    }\n",
       "\n",
       "    .dataframe thead th {\n",
       "        text-align: right;\n",
       "    }\n",
       "</style>\n",
       "<table border=\"1\" class=\"dataframe\">\n",
       "  <thead>\n",
       "    <tr style=\"text-align: right;\">\n",
       "      <th></th>\n",
       "      <th>Year</th>\n",
       "      <th>GNI per capita, PPP (constant 2017 international $)</th>\n",
       "    </tr>\n",
       "  </thead>\n",
       "  <tbody>\n",
       "    <tr>\n",
       "      <th>count</th>\n",
       "      <td>5108.000000</td>\n",
       "      <td>5108.000000</td>\n",
       "    </tr>\n",
       "    <tr>\n",
       "      <th>mean</th>\n",
       "      <td>2006.272905</td>\n",
       "      <td>16214.757852</td>\n",
       "    </tr>\n",
       "    <tr>\n",
       "      <th>std</th>\n",
       "      <td>8.573295</td>\n",
       "      <td>16924.432425</td>\n",
       "    </tr>\n",
       "    <tr>\n",
       "      <th>min</th>\n",
       "      <td>1990.000000</td>\n",
       "      <td>416.032660</td>\n",
       "    </tr>\n",
       "    <tr>\n",
       "      <th>25%</th>\n",
       "      <td>1999.000000</td>\n",
       "      <td>3594.229805</td>\n",
       "    </tr>\n",
       "    <tr>\n",
       "      <th>50%</th>\n",
       "      <td>2007.000000</td>\n",
       "      <td>10029.822354</td>\n",
       "    </tr>\n",
       "    <tr>\n",
       "      <th>75%</th>\n",
       "      <td>2014.000000</td>\n",
       "      <td>23289.224641</td>\n",
       "    </tr>\n",
       "    <tr>\n",
       "      <th>max</th>\n",
       "      <td>2020.000000</td>\n",
       "      <td>112322.248180</td>\n",
       "    </tr>\n",
       "    <tr>\n",
       "      <th>skewness</th>\n",
       "      <td>-0.194268</td>\n",
       "      <td>1.590910</td>\n",
       "    </tr>\n",
       "    <tr>\n",
       "      <th>kurtosis</th>\n",
       "      <td>-1.108965</td>\n",
       "      <td>2.484584</td>\n",
       "    </tr>\n",
       "    <tr>\n",
       "      <th>IQR</th>\n",
       "      <td>15.000000</td>\n",
       "      <td>19694.994836</td>\n",
       "    </tr>\n",
       "  </tbody>\n",
       "</table>\n",
       "</div>"
      ],
      "text/plain": [
       "                 Year  GNI per capita, PPP (constant 2017 international $)\n",
       "count     5108.000000                                        5108.000000  \n",
       "mean      2006.272905                                       16214.757852  \n",
       "std          8.573295                                       16924.432425  \n",
       "min       1990.000000                                         416.032660  \n",
       "25%       1999.000000                                        3594.229805  \n",
       "50%       2007.000000                                       10029.822354  \n",
       "75%       2014.000000                                       23289.224641  \n",
       "max       2020.000000                                      112322.248180  \n",
       "skewness    -0.194268                                           1.590910  \n",
       "kurtosis    -1.108965                                           2.484584  \n",
       "IQR         15.000000                                       19694.994836  "
      ]
     },
     "execution_count": 4,
     "metadata": {},
     "output_type": "execute_result"
    }
   ],
   "source": [
    "from statistics_calc import descriptors\n",
    "\n",
    "# Generate descriptors\n",
    "desc = descriptors(national_income_data)\n",
    "\n",
    "# Export the DataFrame to a CSV file\n",
    "desc.to_csv(\"descriptors/income.csv\", decimal=\",\")\n",
    "\n",
    "desc\n"
   ]
  },
  {
   "cell_type": "code",
   "execution_count": 5,
   "metadata": {},
   "outputs": [
    {
     "name": "stderr",
     "output_type": "stream",
     "text": [
      "c:\\Users\\alvar\\VSCode Projects\\IN\\statistics_calc.py:50: FutureWarning: The behavior of DataFrame concatenation with empty or all-NA entries is deprecated. In a future version, this will no longer exclude empty or all-NA columns when determining the result dtypes. To retain the old behavior, exclude the relevant entries before the concat operation.\n",
      "  estadisticas = pd.concat([estadisticas, nueva_fila], ignore_index=True)\n"
     ]
    },
    {
     "data": {
      "text/html": [
       "<div>\n",
       "<style scoped>\n",
       "    .dataframe tbody tr th:only-of-type {\n",
       "        vertical-align: middle;\n",
       "    }\n",
       "\n",
       "    .dataframe tbody tr th {\n",
       "        vertical-align: top;\n",
       "    }\n",
       "\n",
       "    .dataframe thead th {\n",
       "        text-align: right;\n",
       "    }\n",
       "</style>\n",
       "<table border=\"1\" class=\"dataframe\">\n",
       "  <thead>\n",
       "    <tr style=\"text-align: right;\">\n",
       "      <th></th>\n",
       "      <th>Columna</th>\n",
       "      <th>Moda</th>\n",
       "      <th>Moda (#)</th>\n",
       "      <th>Moda (%)</th>\n",
       "      <th>Valores unicos (#)</th>\n",
       "      <th>Valores unicos (%)</th>\n",
       "      <th>Valores nulos (%)</th>\n",
       "    </tr>\n",
       "  </thead>\n",
       "  <tbody>\n",
       "    <tr>\n",
       "      <th>0</th>\n",
       "      <td>Entity</td>\n",
       "      <td>Africa Eastern and Southern</td>\n",
       "      <td>31</td>\n",
       "      <td>0.606891</td>\n",
       "      <td>235</td>\n",
       "      <td>4.600626</td>\n",
       "      <td>0.000000</td>\n",
       "    </tr>\n",
       "    <tr>\n",
       "      <th>1</th>\n",
       "      <td>Code</td>\n",
       "      <td>ARG</td>\n",
       "      <td>31</td>\n",
       "      <td>0.606891</td>\n",
       "      <td>194</td>\n",
       "      <td>3.797964</td>\n",
       "      <td>23.061864</td>\n",
       "    </tr>\n",
       "  </tbody>\n",
       "</table>\n",
       "</div>"
      ],
      "text/plain": [
       "  Columna                         Moda Moda (#)  Moda (%) Valores unicos (#)  \\\n",
       "0  Entity  Africa Eastern and Southern       31  0.606891                235   \n",
       "1    Code                          ARG       31  0.606891                194   \n",
       "\n",
       "   Valores unicos (%)  Valores nulos (%)  \n",
       "0            4.600626           0.000000  \n",
       "1            3.797964          23.061864  "
      ]
     },
     "execution_count": 5,
     "metadata": {},
     "output_type": "execute_result"
    }
   ],
   "source": [
    "from statistics_calc import qualitative_stats\n",
    "\n",
    "# Columnas cualitativas de interés\n",
    "cols_cualitativas = [\"Entity\", \"Code\"]\n",
    "\n",
    "# Generate statistics\n",
    "estadisticas = qualitative_stats(national_income_data, cols_cualitativas)\n",
    "\n",
    "# Guardar datos en un archivo CSV\n",
    "estadisticas.to_csv(\"descriptors/income_quality.csv\", index=False, decimal=\",\")\n",
    "\n",
    "# Mostrar el DataFrame de estadísticas\n",
    "estadisticas\n"
   ]
  },
  {
   "cell_type": "code",
   "execution_count": 9,
   "metadata": {},
   "outputs": [
    {
     "data": {
      "text/plain": [
       "Code    1178\n",
       "dtype: int64"
      ]
     },
     "execution_count": 9,
     "metadata": {},
     "output_type": "execute_result"
    }
   ],
   "source": [
    "# count the number of missing values in each column\n",
    "missing = national_income_data.isnull().sum()\n",
    "missing = missing[missing > 0]\n",
    "missing.sort_values(inplace=True)\n",
    "missing"
   ]
  },
  {
   "cell_type": "code",
   "execution_count": 2,
   "metadata": {},
   "outputs": [
    {
     "data": {
      "text/html": [
       "<div>\n",
       "<style scoped>\n",
       "    .dataframe tbody tr th:only-of-type {\n",
       "        vertical-align: middle;\n",
       "    }\n",
       "\n",
       "    .dataframe tbody tr th {\n",
       "        vertical-align: top;\n",
       "    }\n",
       "\n",
       "    .dataframe thead th {\n",
       "        text-align: right;\n",
       "    }\n",
       "</style>\n",
       "<table border=\"1\" class=\"dataframe\">\n",
       "  <thead>\n",
       "    <tr style=\"text-align: right;\">\n",
       "      <th></th>\n",
       "      <th>Columna</th>\n",
       "      <th>Dominio</th>\n",
       "    </tr>\n",
       "  </thead>\n",
       "  <tbody>\n",
       "    <tr>\n",
       "      <th>0</th>\n",
       "      <td>Entity</td>\n",
       "      <td>235</td>\n",
       "    </tr>\n",
       "    <tr>\n",
       "      <th>1</th>\n",
       "      <td>Code</td>\n",
       "      <td>194</td>\n",
       "    </tr>\n",
       "    <tr>\n",
       "      <th>2</th>\n",
       "      <td>Year</td>\n",
       "      <td>31</td>\n",
       "    </tr>\n",
       "    <tr>\n",
       "      <th>3</th>\n",
       "      <td>GNI per capita, PPP (constant 2017 internation...</td>\n",
       "      <td>5056</td>\n",
       "    </tr>\n",
       "  </tbody>\n",
       "</table>\n",
       "</div>"
      ],
      "text/plain": [
       "                                             Columna  Dominio\n",
       "0                                             Entity      235\n",
       "1                                               Code      194\n",
       "2                                               Year       31\n",
       "3  GNI per capita, PPP (constant 2017 internation...     5056"
      ]
     },
     "execution_count": 2,
     "metadata": {},
     "output_type": "execute_result"
    }
   ],
   "source": [
    "# Count the number of unique values in each column\n",
    "unique_values = national_income_data.nunique()\n",
    "\n",
    "# Convert the Series to a DataFrame\n",
    "unique_values_df = unique_values.to_frame().reset_index()\n",
    "\n",
    "# Rename the columns\n",
    "unique_values_df.columns = [\"Columna\", \"Dominio\"]\n",
    "\n",
    "# Save the DataFrame to a CSV file\n",
    "unique_values_df.to_csv(\n",
    "    \"descriptors/income_unique_values.csv\", index=False, decimal=\".\"\n",
    ")\n",
    "unique_values_df"
   ]
  },
  {
   "cell_type": "code",
   "execution_count": 11,
   "metadata": {},
   "outputs": [
    {
     "data": {
      "text/plain": [
       "1178"
      ]
     },
     "execution_count": 11,
     "metadata": {},
     "output_type": "execute_result"
    }
   ],
   "source": [
    "# count the number of cells with missing values\n",
    "total_cells = national_income_data.size\n",
    "missing_cells = national_income_data.isnull().sum().sum()\n",
    "missing_cells"
   ]
  },
  {
   "cell_type": "code",
   "execution_count": 9,
   "metadata": {},
   "outputs": [
    {
     "data": {
      "text/plain": [
       "15720"
      ]
     },
     "execution_count": 9,
     "metadata": {},
     "output_type": "execute_result"
    }
   ],
   "source": [
    "# drop the rows with nan values in the code column\n",
    "national_income_data = national_income_data.dropna(subset=[\"Code\"])\n",
    "\n",
    "# count the number of cells\n",
    "total_cells = national_income_data.size\n",
    "total_cells"
   ]
  }
 ],
 "metadata": {
  "kernelspec": {
   "display_name": "base",
   "language": "python",
   "name": "python3"
  },
  "language_info": {
   "codemirror_mode": {
    "name": "ipython",
    "version": 3
   },
   "file_extension": ".py",
   "mimetype": "text/x-python",
   "name": "python",
   "nbconvert_exporter": "python",
   "pygments_lexer": "ipython3",
   "version": "3.11.7"
  }
 },
 "nbformat": 4,
 "nbformat_minor": 2
}
