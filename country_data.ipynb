{
 "cells": [
  {
   "cell_type": "code",
   "execution_count": 37,
   "metadata": {},
   "outputs": [
    {
     "data": {
      "text/html": [
       "<div>\n",
       "<style scoped>\n",
       "    .dataframe tbody tr th:only-of-type {\n",
       "        vertical-align: middle;\n",
       "    }\n",
       "\n",
       "    .dataframe tbody tr th {\n",
       "        vertical-align: top;\n",
       "    }\n",
       "\n",
       "    .dataframe thead th {\n",
       "        text-align: right;\n",
       "    }\n",
       "</style>\n",
       "<table border=\"1\" class=\"dataframe\">\n",
       "  <thead>\n",
       "    <tr style=\"text-align: right;\">\n",
       "      <th></th>\n",
       "      <th>Entity</th>\n",
       "      <th>Code</th>\n",
       "      <th>Year</th>\n",
       "      <th>Human Development Index (UNDP)</th>\n",
       "      <th>GNI per capita, PPP (constant 2017 international $)</th>\n",
       "      <th>Count</th>\n",
       "      <th>Expected Years of Schooling (years)</th>\n",
       "    </tr>\n",
       "  </thead>\n",
       "  <tbody>\n",
       "    <tr>\n",
       "      <th>0</th>\n",
       "      <td>Afghanistan</td>\n",
       "      <td>AFG</td>\n",
       "      <td>1960</td>\n",
       "      <td>NaN</td>\n",
       "      <td>NaN</td>\n",
       "      <td>8996973.0</td>\n",
       "      <td>NaN</td>\n",
       "    </tr>\n",
       "    <tr>\n",
       "      <th>1</th>\n",
       "      <td>Afghanistan</td>\n",
       "      <td>AFG</td>\n",
       "      <td>1961</td>\n",
       "      <td>NaN</td>\n",
       "      <td>NaN</td>\n",
       "      <td>9169410.0</td>\n",
       "      <td>NaN</td>\n",
       "    </tr>\n",
       "    <tr>\n",
       "      <th>2</th>\n",
       "      <td>Afghanistan</td>\n",
       "      <td>AFG</td>\n",
       "      <td>1962</td>\n",
       "      <td>NaN</td>\n",
       "      <td>NaN</td>\n",
       "      <td>9351441.0</td>\n",
       "      <td>NaN</td>\n",
       "    </tr>\n",
       "    <tr>\n",
       "      <th>3</th>\n",
       "      <td>Afghanistan</td>\n",
       "      <td>AFG</td>\n",
       "      <td>1963</td>\n",
       "      <td>NaN</td>\n",
       "      <td>NaN</td>\n",
       "      <td>9543205.0</td>\n",
       "      <td>NaN</td>\n",
       "    </tr>\n",
       "    <tr>\n",
       "      <th>4</th>\n",
       "      <td>Afghanistan</td>\n",
       "      <td>AFG</td>\n",
       "      <td>1964</td>\n",
       "      <td>NaN</td>\n",
       "      <td>NaN</td>\n",
       "      <td>9744781.0</td>\n",
       "      <td>NaN</td>\n",
       "    </tr>\n",
       "    <tr>\n",
       "      <th>...</th>\n",
       "      <td>...</td>\n",
       "      <td>...</td>\n",
       "      <td>...</td>\n",
       "      <td>...</td>\n",
       "      <td>...</td>\n",
       "      <td>...</td>\n",
       "      <td>...</td>\n",
       "    </tr>\n",
       "    <tr>\n",
       "      <th>13638</th>\n",
       "      <td>Zimbabwe</td>\n",
       "      <td>ZWE</td>\n",
       "      <td>2014</td>\n",
       "      <td>0.525</td>\n",
       "      <td>2901.298513</td>\n",
       "      <td>13586681.0</td>\n",
       "      <td>10.3</td>\n",
       "    </tr>\n",
       "    <tr>\n",
       "      <th>13639</th>\n",
       "      <td>Zimbabwe</td>\n",
       "      <td>ZWE</td>\n",
       "      <td>2015</td>\n",
       "      <td>0.529</td>\n",
       "      <td>2858.616749</td>\n",
       "      <td>13814629.0</td>\n",
       "      <td>10.3</td>\n",
       "    </tr>\n",
       "    <tr>\n",
       "      <th>13640</th>\n",
       "      <td>Zimbabwe</td>\n",
       "      <td>ZWE</td>\n",
       "      <td>2016</td>\n",
       "      <td>0.532</td>\n",
       "      <td>2884.156050</td>\n",
       "      <td>14030390.0</td>\n",
       "      <td>10.3</td>\n",
       "    </tr>\n",
       "    <tr>\n",
       "      <th>13641</th>\n",
       "      <td>Zimbabwe</td>\n",
       "      <td>ZWE</td>\n",
       "      <td>2017</td>\n",
       "      <td>0.535</td>\n",
       "      <td>3207.887558</td>\n",
       "      <td>14236745.0</td>\n",
       "      <td>10.3</td>\n",
       "    </tr>\n",
       "    <tr>\n",
       "      <th>13642</th>\n",
       "      <td>Zimbabwe</td>\n",
       "      <td>ZWE</td>\n",
       "      <td>2018</td>\n",
       "      <td>NaN</td>\n",
       "      <td>3262.224759</td>\n",
       "      <td>NaN</td>\n",
       "      <td>NaN</td>\n",
       "    </tr>\n",
       "  </tbody>\n",
       "</table>\n",
       "<p>13643 rows × 7 columns</p>\n",
       "</div>"
      ],
      "text/plain": [
       "            Entity Code  Year  Human Development Index (UNDP)  \\\n",
       "0      Afghanistan  AFG  1960                             NaN   \n",
       "1      Afghanistan  AFG  1961                             NaN   \n",
       "2      Afghanistan  AFG  1962                             NaN   \n",
       "3      Afghanistan  AFG  1963                             NaN   \n",
       "4      Afghanistan  AFG  1964                             NaN   \n",
       "...            ...  ...   ...                             ...   \n",
       "13638     Zimbabwe  ZWE  2014                           0.525   \n",
       "13639     Zimbabwe  ZWE  2015                           0.529   \n",
       "13640     Zimbabwe  ZWE  2016                           0.532   \n",
       "13641     Zimbabwe  ZWE  2017                           0.535   \n",
       "13642     Zimbabwe  ZWE  2018                             NaN   \n",
       "\n",
       "       GNI per capita, PPP (constant 2017 international $)       Count  \\\n",
       "0                                                    NaN     8996973.0   \n",
       "1                                                    NaN     9169410.0   \n",
       "2                                                    NaN     9351441.0   \n",
       "3                                                    NaN     9543205.0   \n",
       "4                                                    NaN     9744781.0   \n",
       "...                                                  ...           ...   \n",
       "13638                                        2901.298513    13586681.0   \n",
       "13639                                        2858.616749    13814629.0   \n",
       "13640                                        2884.156050    14030390.0   \n",
       "13641                                        3207.887558    14236745.0   \n",
       "13642                                        3262.224759           NaN   \n",
       "\n",
       "       Expected Years of Schooling (years)  \n",
       "0                                      NaN  \n",
       "1                                      NaN  \n",
       "2                                      NaN  \n",
       "3                                      NaN  \n",
       "4                                      NaN  \n",
       "...                                    ...  \n",
       "13638                                 10.3  \n",
       "13639                                 10.3  \n",
       "13640                                 10.3  \n",
       "13641                                 10.3  \n",
       "13642                                  NaN  \n",
       "\n",
       "[13643 rows x 7 columns]"
      ]
     },
     "execution_count": 37,
     "metadata": {},
     "output_type": "execute_result"
    }
   ],
   "source": [
    "import pandas as pd\n",
    "from functools import reduce\n",
    "\n",
    "# Read in the datasets\n",
    "hdi_data = pd.read_csv(\"datasets/human-development-index-cleaned.csv\")\n",
    "income_data = pd.read_csv(\"datasets/gross-national-income-per-capita-cleaned.csv\")\n",
    "schooling_data = pd.read_csv(\"datasets/expected-years-of-schooling-cleaned.csv\")\n",
    "population_data = pd.read_csv(\"datasets/population_total_long-cleaned.csv\")\n",
    "\n",
    "population_data = population_data.rename(columns={\"Country Name\": \"Entity\"})\n",
    "\n",
    "merged_data = reduce(\n",
    "    lambda left, right: pd.merge(\n",
    "        left, right, on=[\"Entity\", \"Code\", \"Year\"], how=\"outer\"\n",
    "    ),\n",
    "    [hdi_data, income_data, population_data, schooling_data],\n",
    ")\n",
    "\n",
    "merged_data\n"
   ]
  },
  {
   "cell_type": "code",
   "execution_count": 34,
   "metadata": {},
   "outputs": [
    {
     "data": {
      "text/plain": [
       "238"
      ]
     },
     "execution_count": 34,
     "metadata": {},
     "output_type": "execute_result"
    }
   ],
   "source": [
    "# get all unique values in the code column\n",
    "codes = merged_data[\"Code\"].unique()\n",
    "len(codes)\n"
   ]
  },
  {
   "cell_type": "code",
   "execution_count": 35,
   "metadata": {},
   "outputs": [
    {
     "data": {
      "text/plain": [
       "238"
      ]
     },
     "execution_count": 35,
     "metadata": {},
     "output_type": "execute_result"
    }
   ],
   "source": [
    "merged_data[\"Entity\"].nunique()"
   ]
  },
  {
   "cell_type": "code",
   "execution_count": 11,
   "metadata": {},
   "outputs": [
    {
     "name": "stdout",
     "output_type": "stream",
     "text": [
      "5298\n"
     ]
    }
   ],
   "source": [
    "# get the number of rows with unrealistic values for year\n",
    "print(final_data[final_data[\"Year\"] < 1800].shape[0])  # 0\n"
   ]
  }
 ],
 "metadata": {
  "kernelspec": {
   "display_name": "venv",
   "language": "python",
   "name": "python3"
  },
  "language_info": {
   "codemirror_mode": {
    "name": "ipython",
    "version": 3
   },
   "file_extension": ".py",
   "mimetype": "text/x-python",
   "name": "python",
   "nbconvert_exporter": "python",
   "pygments_lexer": "ipython3",
   "version": "3.12.3"
  }
 },
 "nbformat": 4,
 "nbformat_minor": 2
}
